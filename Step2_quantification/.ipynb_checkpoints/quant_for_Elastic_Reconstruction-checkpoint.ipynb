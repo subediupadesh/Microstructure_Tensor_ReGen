{
 "cells": [
  {
   "cell_type": "code",
   "execution_count": 1,
   "id": "3b543181-ef35-4a16-b2f8-ce949fa82ef5",
   "metadata": {},
   "outputs": [],
   "source": [
    "from matplotlib.legend_handler import HandlerLine2D, HandlerTuple\n",
    "import matplotlib.transforms as transforms\n",
    "from matplotlib.ticker import MaxNLocator\n",
    "import matplotlib.pyplot as plt\n",
    "from skimage import metrics\n",
    "from math import sqrt\n",
    "import seaborn as sns\n",
    "from math import pi\n",
    "import netCDF4\n",
    "import numpy as np\n",
    "import pandas as pd\n",
    "import os\n",
    "# %matplotlib widget\n",
    "\n",
    "path = os.path.abspath(\"..\")\n",
    "path_nonelastic = os.path.abspath('../Step0_phase_field_simulation/nonelastic/exodus_files/Ti_Cr_non_elastic.e')\n",
    "path_elastic = os.path.abspath('../Step0_phase_field_simulation/elastic/exodus_files/Ti_Cr_elastic.e')"
   ]
  },
  {
   "cell_type": "markdown",
   "id": "3d3d93f1-4379-4cae-a5a8-b610fc825939",
   "metadata": {},
   "source": [
    "### Loading .e file"
   ]
  },
  {
   "cell_type": "code",
   "execution_count": null,
   "id": "924fa7c7-7e0a-42b5-a0ad-891003cd4082",
   "metadata": {},
   "outputs": [],
   "source": [
    "model = netCDF4.Dataset(path_elastic)\n",
    "\n",
    "X_all = model.variables['coordx'][:]\n",
    "Y_all = model.variables['coordy'][:]\n",
    "# elem_node = model.variables['connect1'][:]\n",
    "c = model.variables['vals_nod_var2'][:]\n",
    "\n",
    "points = np.vstack([X_all,Y_all,c]).T\n",
    "\n",
    "column_names = ['X', 'Y'] + list(range(c.shape[0]))\n",
    "\n",
    "df = pd.DataFrame(points, columns=column_names)\n",
    "df = df.sort_values(by = ['X', 'Y'], ascending = [True, True], ignore_index=True)\n",
    "df_c = df.iloc[:, 2:]\n",
    "\n",
    "x_dim = int(df_c.shape[0]**0.5)\n",
    "y_dim = int(df_c.shape[0]**0.5)\n",
    "t_dim = int(df_c.shape[1])\n",
    "\n",
    "npa = df_c.to_numpy().flatten().reshape(x_dim, y_dim, t_dim)\n",
    "npa = np.rot90(npa)\n"
   ]
  },
  {
   "cell_type": "markdown",
   "id": "cd3a4bee-0e97-49df-b5fb-1ae397503579",
   "metadata": {},
   "source": [
    "### Loading numpy file"
   ]
  },
  {
   "cell_type": "code",
   "execution_count": null,
   "id": "9536b93a-4765-458f-93b5-e5732070377e",
   "metadata": {},
   "outputs": [],
   "source": [
    "path"
   ]
  },
  {
   "cell_type": "code",
   "execution_count": 2,
   "id": "af0f208f-b1d9-4a7d-b179-3bd79482cd83",
   "metadata": {},
   "outputs": [],
   "source": [
    "ot = np.load(path+'/Step1_decomposition/elastic_tensor.npy')\n",
    "x_y_coord = np.load(path+'/Step1_decomposition/xy_deformed.npy')\n",
    "\n",
    "x_dim = int(x_y_coord.shape[1]**0.5)\n",
    "y_dim = int(x_y_coord.shape[1]**0.5)\n",
    "t_dim = int(x_y_coord.shape[0])"
   ]
  },
  {
   "cell_type": "code",
   "execution_count": 3,
   "id": "a4b0a8c3-2549-43b2-b2c7-dab04f31c38f",
   "metadata": {},
   "outputs": [
    {
     "data": {
      "text/plain": [
       "((401, 401, 317), (401, 401, 317), (401, 401, 317))"
      ]
     },
     "execution_count": 3,
     "metadata": {},
     "output_type": "execute_result"
    }
   ],
   "source": [
    "cp1  = np.load(path+'/Step1_decomposition/reconstructed_tensors/elastic_reconstruction/recon_cpd_tensor_1.npy',) # allow_pickle=True)\n",
    "cp2  = np.load(path+'/Step1_decomposition/reconstructed_tensors/elastic_reconstruction/recon_cpd_tensor_2.npy',) # allow_pickle=True)\n",
    "cp3  = np.load(path+'/Step1_decomposition/reconstructed_tensors/elastic_reconstruction/recon_cpd_tensor_3.npy',) # allow_pickle=True)\n",
    "\n",
    "cp1.shape, cp2.shape, cp3.shape"
   ]
  },
  {
   "cell_type": "code",
   "execution_count": 4,
   "id": "6f668102-6656-44cc-b375-2707659e423f",
   "metadata": {},
   "outputs": [
    {
     "data": {
      "text/plain": [
       "((401, 401, 317), (401, 401, 317), (401, 401, 317))"
      ]
     },
     "execution_count": 4,
     "metadata": {},
     "output_type": "execute_result"
    }
   ],
   "source": [
    "tt1  = np.load(path+'/Step1_decomposition/reconstructed_tensors/elastic_reconstruction/recon_ttd_tensor_1.npy',) # allow_pickle=True)\n",
    "tt2  = np.load(path+'/Step1_decomposition/reconstructed_tensors/elastic_reconstruction/recon_ttd_tensor_2.npy',) # allow_pickle=True)\n",
    "tt3  = np.load(path+'/Step1_decomposition/reconstructed_tensors/elastic_reconstruction/recon_ttd_tensor_3.npy',) # allow_pickle=True)\n",
    "\n",
    "tt1.shape, tt2.shape, tt3.shape"
   ]
  },
  {
   "cell_type": "code",
   "execution_count": 5,
   "id": "2aa33ef9-d077-4096-8376-6a992caaa964",
   "metadata": {},
   "outputs": [
    {
     "data": {
      "text/plain": [
       "(317, 160801, 3)"
      ]
     },
     "execution_count": 5,
     "metadata": {},
     "output_type": "execute_result"
    }
   ],
   "source": [
    "ot_1 = np.transpose(ot[::-1, :, :].reshape(x_dim*y_dim, t_dim), (1,0))[:, :, np.newaxis]\n",
    "ot_1 = np.concatenate((x_y_coord, ot_1), axis=2)\n",
    "ot_1.shape"
   ]
  },
  {
   "cell_type": "code",
   "execution_count": 6,
   "id": "e042c6b5-ef8d-4a09-8eb3-1ce4bbd7701c",
   "metadata": {},
   "outputs": [
    {
     "data": {
      "text/plain": [
       "((317, 160801, 3), (317, 160801, 3), (317, 160801, 3))"
      ]
     },
     "execution_count": 6,
     "metadata": {},
     "output_type": "execute_result"
    }
   ],
   "source": [
    "cp_1 = np.transpose(cp1[::-1, :, :].reshape(x_dim*y_dim, t_dim), (1,0))[:, :, np.newaxis]\n",
    "cp_1 = np.concatenate((x_y_coord, cp_1), axis=2)\n",
    "\n",
    "cp_2 = np.transpose(cp2[::-1, :, :].reshape(x_dim*y_dim, t_dim), (1,0))[:, :, np.newaxis]\n",
    "cp_2 = np.concatenate((x_y_coord, cp_2), axis=2)\n",
    "\n",
    "cp_3 = np.transpose(cp3[::-1, :, :].reshape(x_dim*y_dim, t_dim), (1,0))[:, :, np.newaxis]\n",
    "cp_3 = np.concatenate((x_y_coord, cp_3), axis=2)\n",
    "\n",
    "cp_1.shape, cp_2.shape, cp_3.shape"
   ]
  },
  {
   "cell_type": "code",
   "execution_count": 7,
   "id": "9f40213d-448a-40d3-9439-4785c82bc9db",
   "metadata": {},
   "outputs": [
    {
     "data": {
      "text/plain": [
       "((317, 160801, 3), (317, 160801, 3), (317, 160801, 3))"
      ]
     },
     "execution_count": 7,
     "metadata": {},
     "output_type": "execute_result"
    }
   ],
   "source": [
    "tt_1 = np.transpose(tt1[::-1, :, :].reshape(x_dim*y_dim, t_dim), (1,0))[:, :, np.newaxis]\n",
    "tt_1 = np.concatenate((x_y_coord, tt_1), axis=2)\n",
    "\n",
    "tt_2 = np.transpose(tt2[::-1, :, :].reshape(x_dim*y_dim, t_dim), (1,0))[:, :, np.newaxis]\n",
    "tt_2 = np.concatenate((x_y_coord, tt_2), axis=2)\n",
    "\n",
    "tt_3 = np.transpose(tt3[::-1, :, :].reshape(x_dim*y_dim, t_dim), (1,0))[:, :, np.newaxis]\n",
    "tt_3 = np.concatenate((x_y_coord, tt_3), axis=2)\n",
    "\n",
    "tt_1.shape, tt_2.shape, tt_3.shape"
   ]
  },
  {
   "cell_type": "markdown",
   "id": "b6b3a9ad-4e24-4830-a6d9-2dad7777791d",
   "metadata": {},
   "source": [
    "### Recon and fig"
   ]
  },
  {
   "cell_type": "code",
   "execution_count": null,
   "id": "6c32db7b-7e1f-4dbb-8cd4-8c604e106e40",
   "metadata": {},
   "outputs": [],
   "source": [
    "plot_color_gradients('Diverging',\n",
    "'flag', 'prism', 'ocean', 'gist_earth', 'terrain',\n",
    "                      'gist_stern', 'gnuplot', 'gnuplot2', 'CMRmap',\n",
    "                      'cubehelix', 'brg', 'gist_rainbow', 'rainbow', 'jet',\n",
    "                      'turbo', 'nipy_spectral', 'gist_ncar'])\n",
    "\n",
    "plt.show()\n",
    "\n",
    "PiYG, twilight, RdYlBu, gist_earth, gist_stern, nipy_spectral"
   ]
  },
  {
   "cell_type": "code",
   "execution_count": null,
   "id": "81f0b50f-736e-4b94-b362-db0e4ac3d0c7",
   "metadata": {},
   "outputs": [],
   "source": [
    "# plt.rcParams[\"figure.figsize\"] = [18,10]\n",
    "\n",
    "fig, (ax0, ax1, ax2) = plt.subplots(1, 3, figsize=[30, 14],)#  gridspec_kw={'width_ratios': [1, 1.05, 1.05] , 'height_ratios': [1, ]})\n",
    "\n",
    "# plt.rcParams[\"figure.figsize\"] = [30,9.5]\n",
    "# ax0 = plt.subplot(131)\n",
    "# ax1 = plt.subplot(132)\n",
    "# ax2 = plt.subplot(133)\n",
    "\n",
    "hmap0 = ax0.imshow(npa[:,:,-1], vmin=0.0, vmax=1.0, cmap='nipy_spectral')\n",
    "hmap1 = ax1.scatter(ot_1[-1,:,0], ot_1[-1,:,1], c= ot_1[-1,:,2], vmin=0.0, vmax=1.0, cmap='nipy_spectral', )\n",
    "hmap2 = ax2.scatter(tt_1[-1,:,0], tt_1[-1,:,1], c= tt_1[-1,:,2], vmin=0.0, vmax=1.0, cmap='nipy_spectral')\n",
    "\n",
    "\n",
    "cbar = fig.colorbar(hmap0, ax=[ax0, ax1, ax2,], orientation='horizontal', aspect=20, pad=0.18)\n",
    "cbar.set_ticks([0.05, 0.5, 1],labels=['0', '0.5', '1']) \n",
    "cbar.ax.tick_params(labelsize=80,) \n",
    "cbar.set_label('$_{\\longleftarrow}$      C $_{Cr}$      $_{\\longrightarrow}$',  labelpad=-250, fontsize=80, rotation=00, weight='bold')\n",
    "\n",
    "\n",
    "ax0.set_title(\"$\\mathcal{T}$\", fontsize=80, weight='bold', pad=20)\n",
    "ax1.set_title(\"$\\mathcal{T}_{e}$\", fontsize=80, weight='bold', pad=0)\n",
    "ax2.set_title(\"$\\mathcal{T}^{\\ T}_{e}$\", fontsize=80, weight='bold', pad=0)\n",
    "\n",
    "\n",
    "ax0.set_xlabel('$\\longleftarrow$50$_{nm}$$\\longrightarrow$', fontsize = 80, weight ='bold',)\n",
    "ax0.annotate('$\\longleftarrow$50$_{nm}$$\\longrightarrow$', xy=(1, 0.5), xytext=(1.10, 0.5), rotation=90,\n",
    "             xycoords='axes fraction', textcoords='axes fraction', fontsize = 80, weight = 'bold', color='k', ha='center', va='center')\n",
    "\n",
    "\n",
    "ax0.tick_params(axis='both', labelcolor='black', labelsize=65, bottom=False, top=False, left=False, right=False, labelbottom=False, labelleft=False)\n",
    "ax1.tick_params(axis='both', labelcolor='black', labelsize=65, bottom=False, top=False, left=False, right=False, labelbottom=False, labelleft=False)\n",
    "ax2.tick_params(axis='both', labelcolor='black', labelsize=65, bottom=False, top=False, left=False, right=False, labelbottom=False, labelleft=False)\n",
    "\n",
    "ax0.spines[['top', 'right', 'bottom', 'left']].set_visible(False)\n",
    "ax1.spines[['top', 'right', 'bottom', 'left']].set_visible(False)\n",
    "ax2.spines[['top', 'right', 'bottom', 'left']].set_visible(False)\n",
    "\n",
    "\n",
    "###################################\n",
    "C = (190,288, 23.5, 13.5) \n",
    "r = (43, 5.3)\n",
    "theta = np.linspace(0, 2 * np.pi, 100)\n",
    "x0 = C[0] + r[0] * np.cos(theta)\n",
    "y0 = C[1] + r[0] * np.sin(theta)\n",
    "x1 = C[2] + r[1] * np.cos(theta)\n",
    "y1 = C[3] + r[1] * np.sin(theta)\n",
    "\n",
    "ax0.plot(x0, y0, linestyle='--', color='b', linewidth=8)\n",
    "ax1.plot(x1, y1, linestyle='--', color='b', linewidth=8)\n",
    "ax2.plot(x1, y1, linestyle='--', color='b', linewidth=8)\n",
    "#################################\n",
    "\n",
    "# plt.tight_layout()\n",
    "# plt.savefig('../figures/elas_comparison.png', transparent=True)\n",
    "plt.show()"
   ]
  },
  {
   "cell_type": "code",
   "execution_count": null,
   "id": "9a4f7ad7-9539-418d-9cbf-07b4cd174937",
   "metadata": {},
   "outputs": [],
   "source": []
  },
  {
   "cell_type": "code",
   "execution_count": null,
   "id": "58534c84-6fae-49d2-9413-405201794573",
   "metadata": {},
   "outputs": [],
   "source": []
  },
  {
   "cell_type": "markdown",
   "id": "254eab35-6369-482f-abdb-1d6bf43df8dc",
   "metadata": {},
   "source": [
    "## $\\mu$SIM"
   ]
  },
  {
   "cell_type": "code",
   "execution_count": null,
   "id": "bca72305-ab85-4ae2-b7b8-452f169ca9ee",
   "metadata": {},
   "outputs": [],
   "source": [
    "from skimage import metrics"
   ]
  },
  {
   "cell_type": "code",
   "execution_count": null,
   "id": "ea8871fd-fb3b-4f98-81cd-35300135897e",
   "metadata": {},
   "outputs": [],
   "source": [
    "def scale_array(arr):\n",
    "  scaled_arry = []\n",
    "  for f in range(arr.shape[-1]):\n",
    "    arr_min = np.min(arr[:,:,f])\n",
    "    arr_max = np.max(arr[:,:,f])\n",
    "    scaled_arry.append(((arr[:,:,f] - arr_min) / (arr_max - arr_min) * 255).astype(np.uint8))\n",
    "  scaled_arry = np.array(scaled_arry).transpose(1,2,0)\n",
    "  return scaled_arry\n",
    "\n",
    "ot_scaled = scale_array(ot)\n",
    "cp1_scaled = scale_array(cp1)\n",
    "cp2_scaled = scale_array(cp2)\n",
    "cp3_scaled = scale_array(cp3)\n",
    "\n",
    "tt1_scaled = scale_array(tt1)\n",
    "tt2_scaled = scale_array(tt2)\n",
    "tt3_scaled = scale_array(tt3)\n"
   ]
  },
  {
   "cell_type": "code",
   "execution_count": null,
   "id": "a4eb4d49-0e8a-4e9f-bac8-bbf59894db8f",
   "metadata": {},
   "outputs": [],
   "source": [
    "x_, y_, t_ = ot_scaled.shape[0], ot_scaled.shape[1], ot_scaled.shape[2]\n",
    "\n",
    "rmse_cp1, msim_cp1  = [np.zeros((t_)) for _ in range(2)]\n",
    "rmse_cp2, msim_cp2  = [np.zeros((t_)) for _ in range(2)]\n",
    "rmse_cp3, msim_cp3  = [np.zeros((t_)) for _ in range(2)]\n",
    "\n",
    "\n",
    "for f in range(t_):\n",
    "  rmse_cp1[f] = metrics.normalized_root_mse(ot[:,:,f], cp1[:,:,f])\n",
    "  msim_cp1[f] = metrics.structural_similarity(ot_scaled[:,:,f], cp1_scaled[:,:,f], win_size=3)\n",
    "\n",
    "  rmse_cp2[f] = metrics.normalized_root_mse(ot[:,:,f], cp2[:,:,f])\n",
    "  msim_cp2[f] = metrics.structural_similarity(ot_scaled[:,:,f], cp2_scaled[:,:,f], win_size=3)\n",
    "\n",
    "  rmse_cp3[f] = metrics.normalized_root_mse(ot[:,:,f], cp3[:,:,f])\n",
    "  msim_cp3[f] = metrics.structural_similarity(ot_scaled[:,:,f], cp3_scaled[:,:,f], win_size=3)\n",
    "\n",
    "\n",
    "rmse_cp1_all = metrics.normalized_root_mse(ot, cp1)\n",
    "msim_cp1_all = metrics.structural_similarity(ot_scaled, cp1_scaled, win_size=3)\n",
    "\n",
    "rmse_cp2_all = metrics.normalized_root_mse(ot, cp2)\n",
    "msim_cp2_all = metrics.structural_similarity(ot_scaled, cp2_scaled, win_size=3)\n",
    "\n",
    "rmse_cp3_all = metrics.normalized_root_mse(ot, cp3)\n",
    "msim_cp3_all = metrics.structural_similarity(ot_scaled, cp3_scaled, win_size=3)"
   ]
  },
  {
   "cell_type": "code",
   "execution_count": null,
   "id": "981987aa-bf70-4c45-898b-66ce22611f35",
   "metadata": {},
   "outputs": [],
   "source": [
    "x_, y_, t_ = ot_scaled.shape[0], ot_scaled.shape[1], ot_scaled.shape[2]\n",
    "\n",
    "rmse_tt1, msim_tt1  = [np.zeros((t_)) for _ in range(2)]\n",
    "rmse_tt2, msim_tt2  = [np.zeros((t_)) for _ in range(2)]\n",
    "rmse_tt3, msim_tt3  = [np.zeros((t_)) for _ in range(2)]\n",
    "\n",
    "\n",
    "for f in range(t_):\n",
    "  rmse_tt1[f] = metrics.normalized_root_mse(ot[:,:,f], tt1[:,:,f])\n",
    "  msim_tt1[f] = metrics.structural_similarity(ot_scaled[:,:,f], tt1_scaled[:,:,f], win_size=3)\n",
    "\n",
    "  rmse_tt2[f] = metrics.normalized_root_mse(ot[:,:,f], tt2[:,:,f])\n",
    "  msim_tt2[f] = metrics.structural_similarity(ot_scaled[:,:,f], tt2_scaled[:,:,f], win_size=3)\n",
    "\n",
    "  rmse_tt3[f] = metrics.normalized_root_mse(ot[:,:,f], tt3[:,:,f])\n",
    "  msim_tt3[f] = metrics.structural_similarity(ot_scaled[:,:,f], tt3_scaled[:,:,f], win_size=3)\n",
    "\n",
    "\n",
    "rmse_tt1_all = metrics.normalized_root_mse(ot, tt1)\n",
    "msim_tt1_all = metrics.structural_similarity(ot_scaled, tt1_scaled, win_size=3)\n",
    "\n",
    "rmse_tt2_all = metrics.normalized_root_mse(ot, tt2)\n",
    "msim_tt2_all = metrics.structural_similarity(ot_scaled, tt2_scaled, win_size=3)\n",
    "\n",
    "rmse_tt3_all = metrics.normalized_root_mse(ot, tt3)\n",
    "msim_tt3_all = metrics.structural_similarity(ot_scaled, tt3_scaled, win_size=3)"
   ]
  },
  {
   "cell_type": "code",
   "execution_count": null,
   "id": "2a8105e1-2519-49ed-990a-4fd9080a79f8",
   "metadata": {},
   "outputs": [],
   "source": [
    "def wrap_around(radii, s,):\n",
    "    thetas = [i * (330 / len(radii)) for i in range(32, len(radii))]\n",
    "    xs = [(s * radius * np.sin(np.deg2rad(theta))) for radius, theta in zip(radii, thetas)]\n",
    "    ys = [(s * radius * np.cos(np.deg2rad(theta))) for radius, theta in zip(radii, thetas)]\n",
    "    return xs,ys\n",
    "\n",
    "def labels(radii, s,):\n",
    "    thetas = [i * (60 / len(radii)) for i in range(-145, len(radii))]\n",
    "    xs = [(s * radius * np.sin(np.deg2rad(theta))) for radius, theta in zip(radii, thetas)]\n",
    "    ys = [(s * radius * np.cos(np.deg2rad(theta))) for radius, theta in zip(radii, thetas)]\n",
    "    return  xs,ys\n",
    "  \n",
    "###################################################\n",
    "###################################################\n",
    "fig = plt.figure(figsize=(14, 8))\n",
    "ax1 = fig.add_subplot(1, 2, 1)\n",
    "ax2 = fig.add_subplot(1, 2, 2)\n",
    "\n",
    "\n",
    "x0,y0 = wrap_around(msim_tt1[8:], s=21)\n",
    "x1,y1 = wrap_around(msim_tt2[8:], s=17)\n",
    "x2,y2 = wrap_around(msim_tt3[8:], s=14)\n",
    "\n",
    "a =  np.ones(len(msim_tt1[8:]))\n",
    "l0 = labels(a , 20.0)\n",
    "l1 = labels(a , 16.0)\n",
    "l2 = labels(a , 13.0)\n",
    "\n",
    "ax1.plot([6.75, 11.75], [9.5, 17.5], '--', color = 'black', linewidth=3,  alpha=0.3)\n",
    "ax1.text(11, 17, s=\"t$_0$\", color='k',fontsize=40, weight = 'bold', rotation=-30)\n",
    "ax1.hlines(y=0, xmin=12.0, xmax=22,  color = 'black', linewidth=3, linestyles='dashed', alpha=0.3)\n",
    "ax1.text(21.5, -1, s=\"t$_{65}$\", color='k',fontsize=40, weight = 'bold', rotation=270)\n",
    "ax1.plot([15, 8.0], [-15, -8.0], '--', color = 'black', linewidth=3,  alpha=0.3)\n",
    "ax1.text(13.5, -18, s=\"t$_{115}$\", color='k',fontsize=40, weight = 'bold', rotation=45)\n",
    "ax1.vlines(x=0, ymin=-21, ymax=-12,  color = 'black', linewidth=3, linestyles='dashed', alpha=0.3)\n",
    "ax1.text(-2, -24.5, s=\"t$_{165}$\", color='k',fontsize=40, weight = 'bold', rotation=0)\n",
    "ax1.plot([-8, -15], [-8, -15], '--', color = 'black', linewidth=3,  alpha=0.3)\n",
    "ax1.text(-20.5, -18.5, s=\"t$_{215}$\", color='k',fontsize=40, weight = 'bold', rotation=-45)\n",
    "ax1.hlines(y=0, xmin=-20.25, xmax=-10.5,  color = 'black', linewidth=3, linestyles='dashed', alpha=0.3)\n",
    "ax1.text(-25.0, -2, s=\"t$_{265}$\", color='k',fontsize=40, weight = 'bold', rotation=90)\n",
    "ax1.plot([-10.45, -6.25], [18, 10.25], '--', color = 'black', linewidth=3,  alpha=0.3)\n",
    "ax1.text(-15.5, 17.5, s=\"t$_{315}$\", color='k',fontsize=40, weight = 'bold', rotation=35)\n",
    "\n",
    "ax1.plot(x0, y0, '-o', color='red', label=r'$\\mathcal{T}_{\\ 10\\%}^{\\  T}$', linewidth=3, markersize=5)\n",
    "ax1.plot(x1, y1, '-s', color='green', label=r'$\\mathcal{T}_{\\ 15\\%}^{\\  T}$', linewidth=3, markersize=5)\n",
    "ax1.plot(x2, y2, '-d', color='blue', label=r'$\\mathcal{T}_{\\ 20\\%}^{\\  T}$', linewidth=3, markersize=5)\n",
    "\n",
    "l0 = ax1.plot(l0[0], l0[1], '--', color = 'black', alpha=0.8)\n",
    "l1 = ax1.plot(l1[0], l1[1], '--', color = 'black', alpha=0.8)\n",
    "l2 = ax1.plot(l2[0], l2[1], '--', color = 'black', alpha=0.8)\n",
    "\n",
    "ax1.text(-5.0, 20.5,  s=f\"{msim_tt1_all:.4F}\", color='red',fontsize=30, weight = 'bold')\n",
    "ax1.text(-4.0, 17.0,  s=f\"{msim_tt2_all:.4F}\", color='green',fontsize=25, weight = 'bold')\n",
    "ax1.text(-4.0, 13.25, s=f\"{msim_tt3_all:.4F}\", color='blue',fontsize=23, weight = 'bold')\n",
    "\n",
    "ax1.legend(loc=(0.34,0.33), prop={'weight':'bold', 'size':'32'}, frameon=False, handlelength=0.7, labelcolor='linecolor').get_frame().set_facecolor('none')\n",
    "ax1.set_title(\"$\\mu_{SIM}^{T}$\", color='teal',fontsize=70, weight = 'bold', rotation=0, pad=40)\n",
    "ax1.axis(False)\n",
    "# ax1.text(-25,25,\"(a)\", fontsize=60, weight = 'bold', color = 'k')\n",
    "\n",
    "#########################################################################\n",
    "#########################################################################\n",
    "\n",
    "x0,y0 = wrap_around(msim_cp1[8:], s=21)\n",
    "x1,y1 = wrap_around(msim_cp2[8:], s=17)\n",
    "x2,y2 = wrap_around(msim_cp3[8:], s=11)\n",
    "\n",
    "a =  np.ones(len(msim_cp1[8:]))\n",
    "l0 = labels(a , 20.0)\n",
    "l1 = labels(a , 16.0)\n",
    "l2 = labels(a , 10.0)\n",
    "\n",
    "ax2.plot([4.75, 11.75], [7.5, 17.5], '--', color = 'black', linewidth=3,  alpha=0.3)\n",
    "ax2.text(11, 17, s=\"t$_0$\", color='k',fontsize=40, weight = 'bold', rotation=-30)\n",
    "ax2.hlines(y=0, xmin=9.5, xmax=21,  color = 'black', linewidth=3, linestyles='dashed', alpha=0.3)\n",
    "ax2.text(21.5, -1, s=\"t$_{65}$\", color='k',fontsize=40, weight = 'bold', rotation=270)\n",
    "ax2.plot([15, 6.0], [-15, -6.0], '--', color = 'black', linewidth=3,  alpha=0.3)\n",
    "ax2.text(13.5, -18, s=\"t$_{115}$\", color='k',fontsize=40, weight = 'bold', rotation=45)\n",
    "ax2.vlines(x=0, ymin=-21, ymax=-8,  color = 'black', linewidth=3, linestyles='dashed', alpha=0.3)\n",
    "ax2.text(-2, -23.5, s=\"t$_{165}$\", color='k',fontsize=40, weight = 'bold', rotation=0)\n",
    "ax2.plot([-6, -15], [-6, -15], '--', color = 'black', linewidth=3,  alpha=0.3)\n",
    "ax2.text(-19.5, -18.5, s=\"t$_{215}$\", color='k',fontsize=40, weight = 'bold', rotation=-45)\n",
    "ax2.hlines(y=0, xmin=-20.25, xmax=-8.5,  color = 'black', linewidth=3, linestyles='dashed', alpha=0.3)\n",
    "ax2.text(-24.0, -2, s=\"t$_{265}$\", color='k',fontsize=40, weight = 'bold', rotation=90)\n",
    "ax2.plot([-10.45, -4.5], [18, 8], '--', color = 'black', linewidth=3,  alpha=0.3)\n",
    "ax2.text(-14, 17.5, s=\"t$_{315}$\", color='k',fontsize=40, weight = 'bold', rotation=35)\n",
    "\n",
    "ax2.plot(x0, y0, '-o', color='m', label=r'$\\mathcal{T}_{\\ 10\\%}^{\\  C}$', linewidth=3, markersize=5)\n",
    "ax2.plot(x1, y1, '-s', color='orange', label=r'$\\mathcal{T}_{\\ 15\\%}^{\\  C}$', linewidth=3, markersize=5)\n",
    "ax2.plot(x2, y2, '-d', color='olive', label=r'$\\mathcal{T}_{\\ 20\\%}^{\\  C}$', linewidth=3, markersize=5)\n",
    "\n",
    "l0 = ax2.plot(l0[0], l0[1], '--', color = 'black', alpha=0.8)\n",
    "l1 = ax2.plot(l1[0], l1[1], '--', color = 'black', alpha=0.8)\n",
    "l2 = ax2.plot(l2[0], l2[1], '--', color = 'black', alpha=0.8)\n",
    "\n",
    "ax2.text(-4.5, 20.5,  s=f\"{msim_cp1_all:.4F}\", color='m',fontsize=30, weight = 'bold')\n",
    "ax2.text(-4.0, 16.5,  s=f\"{msim_cp2_all:.4F}\", color='orange',fontsize=25, weight = 'bold')\n",
    "ax2.text(-3.75, 10.5, s=f\"{msim_cp3_all:.4F}\", color='olive',fontsize=23, weight = 'bold')\n",
    "\n",
    "ax2.legend(loc=(0.34,0.33), prop={'weight':'bold', 'size':'30'}, frameon=False, handlelength=0.7, labelcolor='linecolor').get_frame().set_facecolor('none')\n",
    "ax2.set_title(\"$\\mu_{SIM}^{c}$\", color='tab:blue',fontsize=70, weight = 'bold', rotation=0, pad=40)\n",
    "ax2.axis(False)\n",
    "# ax2.text(-25,25,\"(b)\", fontsize=60, weight = 'bold', color = 'k')\n",
    "\n",
    "\n",
    "\n",
    "plt.tight_layout()\n",
    "\n",
    "plt.savefig(path+'/figures/mu_SIM_Elas.png', transparent=True)\n",
    "\n",
    "# plt.grid()\n",
    "plt.show()\n",
    "\n"
   ]
  },
  {
   "cell_type": "code",
   "execution_count": null,
   "id": "70cbef1d-09e6-4956-96c8-4342056ccbb9",
   "metadata": {},
   "outputs": [],
   "source": []
  },
  {
   "cell_type": "code",
   "execution_count": null,
   "id": "5af3b470-f619-4543-ada9-970f822ea00c",
   "metadata": {},
   "outputs": [],
   "source": []
  },
  {
   "cell_type": "code",
   "execution_count": null,
   "id": "421038f9-d514-468c-8369-c2035339d984",
   "metadata": {},
   "outputs": [],
   "source": [
    "###################################################\n",
    "###################################################\n",
    "fig = plt.figure(figsize=(14, 8))\n",
    "ax1 = fig.add_subplot(1, 2, 1)\n",
    "ax2 = fig.add_subplot(1, 2, 2)\n",
    "\n",
    "\n",
    "x0,y0 = wrap_around(msim_tt1[8:], s=21)\n",
    "x1,y1 = wrap_around(msim_tt2[8:], s=17)\n",
    "x2,y2 = wrap_around(msim_tt3[8:], s=14)\n",
    "\n",
    "a =  np.ones(len(msim_tt1[8:]))\n",
    "l0 = labels(a , 20.0)\n",
    "l1 = labels(a , 16.0)\n",
    "l2 = labels(a , 13.0)\n",
    "\n",
    "ax1.plot([6.75, 11.75], [9.5, 17.5], '--', color = 'black', linewidth=3,  alpha=0.2)\n",
    "ax1.text(11, 17, s=\"t$_0$\", color='k',fontsize=40, weight = 'bold', rotation=-30)\n",
    "ax1.hlines(y=0, xmin=12.0, xmax=22,  color = 'black', linewidth=3, linestyles='dashed', alpha=0.2)\n",
    "ax1.text(21.5, -1, s=\"t$_{65}$\", color='k',fontsize=40, weight = 'bold', rotation=270)\n",
    "ax1.plot([15, 8.0], [-15, -8.0], '--', color = 'black', linewidth=3,  alpha=0.2)\n",
    "ax1.text(13.5, -18, s=\"t$_{115}$\", color='k',fontsize=40, weight = 'bold', rotation=45)\n",
    "ax1.vlines(x=0, ymin=-21, ymax=-12,  color = 'black', linewidth=3, linestyles='dashed', alpha=0.2)\n",
    "ax1.text(-2, -24.5, s=\"t$_{165}$\", color='k',fontsize=40, weight = 'bold', rotation=0)\n",
    "ax1.plot([-8, -15], [-8, -15], '--', color = 'black', linewidth=3,  alpha=0.2)\n",
    "ax1.text(-20.5, -18.5, s=\"t$_{215}$\", color='k',fontsize=40, weight = 'bold', rotation=-45)\n",
    "ax1.hlines(y=0, xmin=-20.25, xmax=-10.5,  color = 'black', linewidth=3, linestyles='dashed', alpha=0.2)\n",
    "ax1.text(-25.0, -2, s=\"t$_{265}$\", color='k',fontsize=40, weight = 'bold', rotation=90)\n",
    "ax1.plot([-10.45, -6.25], [18, 10.25], '--', color = 'black', linewidth=3,  alpha=0.2)\n",
    "ax1.text(-15.5, 17.5, s=\"t$_{315}$\", color='k',fontsize=40, weight = 'bold', rotation=35)\n",
    "\n",
    "ax1.plot(x0, y0, '-o', color='red', label=r'$\\mathcal{T}_{\\ 10\\%}^{\\  T}$', linewidth=3, markersize=5)\n",
    "ax1.plot(x1, y1, '-s', color='green', label=r'$\\mathcal{T}_{\\ 15\\%}^{\\  T}$', linewidth=3, markersize=5)\n",
    "ax1.plot(x2, y2, '-d', color='blue', label=r'$\\mathcal{T}_{\\ 20\\%}^{\\  T}$', linewidth=3, markersize=5)\n",
    "l0 = ax1.plot(l0[0], l0[1], '--', color = 'black', alpha=0.8)\n",
    "l1 = ax1.plot(l1[0], l1[1], '--', color = 'black', alpha=0.8)\n",
    "l2 = ax1.plot(l2[0], l2[1], '--', color = 'black', alpha=0.8)\n",
    "ax1.text(-4.5, 20.5,  s=f\"{msim_tt1_all:.4F}\", color='red',fontsize=30, weight = 'bold')\n",
    "ax1.text(-4.0, 17.0,  s=f\"{msim_tt2_all:.4F}\", color='green',fontsize=25, weight = 'bold')\n",
    "ax1.text(-3.75, 13.5, s=f\"{msim_tt3_all:.4F}\", color='blue',fontsize=23, weight = 'bold')\n",
    "ax1.legend(loc=(0.34,0.38), prop={'weight':'bold', 'size':'25'}, frameon=False, labelcolor='linecolor').get_frame().set_facecolor('none')\n",
    "ax1.set_title(\"$\\mu_{SIM}^{T}$\", color='teal',fontsize=70, weight = 'bold', rotation=0, pad=35)\n",
    "ax1.axis(False)\n",
    "plt.tight_layout()\n",
    "plt.show()"
   ]
  },
  {
   "cell_type": "code",
   "execution_count": null,
   "id": "d7e9a0c8-faa2-4af4-ba43-8e6ff9e2e209",
   "metadata": {},
   "outputs": [],
   "source": []
  }
 ],
 "metadata": {
  "kernelspec": {
   "display_name": "Python 3 (ipykernel)",
   "language": "python",
   "name": "python3"
  },
  "language_info": {
   "codemirror_mode": {
    "name": "ipython",
    "version": 3
   },
   "file_extension": ".py",
   "mimetype": "text/x-python",
   "name": "python",
   "nbconvert_exporter": "python",
   "pygments_lexer": "ipython3",
   "version": "3.10.6"
  }
 },
 "nbformat": 4,
 "nbformat_minor": 5
}
