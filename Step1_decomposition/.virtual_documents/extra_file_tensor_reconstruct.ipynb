import pyvista as pv
import panel as pn
import netCDF4
import numpy as np
import matplotlib.pyplot as plt
import pandas as pd
import random

import seaborn as sns
import scipy.io

from natsort import natsorted
import glob
import os








path_nonelastic = os.path.abspath('../Step0_phase_field_simulation/nonelastic/exodus_files/Ti_Cr_non_elastic.e')
path_elastic = os.path.abspath('../Step0_phase_field_simulation/elastic/exodus_files/Ti_Cr_elastic.e')


model = netCDF4.Dataset(path_nonelastic)

X_all = model.variables['coordx'][:]
Y_all = model.variables['coordy'][:]
c = model.variables['vals_nod_var2'][:]

points = np.vstack([X_all,Y_all,c]).T


column_names = ['X', 'Y'] + list(range(c.shape[0]))

df = pd.DataFrame(points, columns=column_names)
df = df.sort_values(by = ['X', 'Y'], ascending = [True, True], ignore_index=True)
df_c = df.iloc[:, 2:]
df.head()


x_dim = int(df_c.shape[0]**0.5)
y_dim = int(df_c.shape[0]**0.5)
t_dim = int(df_c.shape[1])

npa_noelastic = df_c.to_numpy().flatten().reshape(x_dim, y_dim, t_dim)
npa_noelastic = np.rot90(npa_noelastic)

np.save('tensor_non_elastic.npy', npa_noelastic)
npa_noelastic.shape


plt.rcParams["figure.figsize"] = [8,4]
plt.rcParams["figure.autolayout"] = True
ax1 = plt.subplot(121)
ax1.imshow(npa_noelastic[:,:,-1], cmap='gist_ncar')
plt.gca().invert_xaxis()
plt.gca().invert_yaxis()
plt.show()








model = netCDF4.Dataset(path_elastic)

X_all = model.variables['coordx'][:]
Y_all = model.variables['coordy'][:]
c = model.variables['vals_nod_var2'][:]

points = np.vstack([X_all,Y_all,c]).T


column_names = ['X', 'Y'] + list(range(c.shape[0]))

df = pd.DataFrame(points, columns=column_names)
df = df.sort_values(by = ['X', 'Y'], ascending = [True, True], ignore_index=True)
df_c = df.iloc[:, 2:]
df.head()


x_dim = int(df_c.shape[0]**0.5)
y_dim = int(df_c.shape[0]**0.5)
t_dim = int(df_c.shape[1])

npa_elastic = df_c.to_numpy().flatten().reshape(x_dim, y_dim, t_dim)
npa_elastic = np.rot90(npa_elastic)

np.save('tensor_elast.npy', npa_elastic)
npa_elastic.shape


plt.rcParams["figure.figsize"] = [8,4]
plt.rcParams["figure.autolayout"] = True
ax1 = plt.subplot(121)

ax1.imshow(npa_elastic[:,:,-1], vmin=0.0, vmax=1.0, cmap='nipy_spectral')
plt.gca().invert_xaxis()
plt.gca().invert_yaxis()
plt.show()





path_csv = os.path.abspath('../Step0_phase_field_simulation/elastic/exodus_files/csv_files/')
csv_files = natsorted(glob.glob(path_csv+'/*.csv'))  # Importing csv files of simulation naturally sorted
path_csv


df_t0 = pd.read_csv(csv_files[0])
df_t0 = df_t0[['Points:0', 'Points:1']].rename(columns={'Points:0': 'X', 'Points:1': 'Y'})
df_t0.head()


array = []
for i, file in enumerate(csv_files):
  df = pd.read_csv(file, index_col=None)
  df = pd.concat([df_t0, df], axis=1)
  df = df.sort_values(by =['Y', 'X'], ascending = [True, True])
  dist = df[['Points:0', 'Points:1', 'c']]
  arr = dist.to_numpy()
  array.append(arr)

array = np.array(array)

array.shape


x_dim = int(array.shape[1]**0.5)
y_dim = int(array.shape[1]**0.5)
t_dim = int(array.shape[0])
x_y_coord = array[:, :, :2]


npa_elastic_csv = np.transpose(array[:,:,2], (1,0))
npa_elastic_csv = npa_elastic_csv.reshape(x_dim, y_dim, t_dim) 
npa_elastic_csv = npa_elastic_csv[::-1, :, :]
npa_elastic_csv.shape


np.save('tensor_elast.npy', npa_elastic_csv)
np.save('xy_deformed.npy', x_y_coord)


plt.rcParams["figure.figsize"] = [8,4]
ax1 = plt.subplot(121)
ax2 = plt.subplot(122)
ax1.imshow(npa_noelastic[:,:,-1], vmin=0.0, vmax=1.0, cmap='gist_ncar')
ax2.scatter(array[-1,:,0], array[-1,:,1], c= array[-1,:,2], vmin=0.0, vmax=1.0, cmap='gist_ncar')
ax1.set_title('No Elastic Effect')
ax2.set_title('Elastic Effect')
plt.show()





npa_1 = np.load('tensor_elast.npy')
# npa_1 = np.load('tensor_elast_recon.npy')
x_y_coord = np.load('xy_deformed.npy')

x_dim = int(x_y_coord.shape[1]**0.5)
y_dim = int(x_y_coord.shape[1]**0.5)
t_dim = int(x_y_coord.shape[0])


npa_1 = np.transpose(npa_1[::-1, :, :].reshape(x_dim*y_dim, t_dim), (1,0))[:, :, np.newaxis]
npa_1 = np.concatenate((x_y_coord, npa_1), axis=2)
npa_1.shape


plt.rcParams["figure.figsize"] = [14,4]
# ax1 = plt.subplot(131)
ax2 = plt.subplot(132)
ax3 = plt.subplot(133)
# ax1.imshow(npa[:,:,-1], vmin=0.0, vmax=1.0, cmap='gist_ncar')
ax2.scatter(array[-1,:,0], array[-1,:,1], c= array[-1,:,2], vmin=0.0, vmax=1.0, cmap='gist_ncar')
ax3.scatter(npa_1[-1,:,0], npa_1[-1,:,1], c= npa_1[-1,:,2], vmin=0.0, vmax=1.0, cmap='gist_ncar')
# ax1.set_title('No loading')
ax2.set_title('Elastic Loading')
ax3.set_title('Reconstructed Elastic Loading')
plt.show()
