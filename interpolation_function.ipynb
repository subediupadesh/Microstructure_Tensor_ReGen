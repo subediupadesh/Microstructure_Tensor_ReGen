import numpy as np
import matplotlib.pyplot as plt

def sigmoid(theta, c):
    return 1 / (1 + np.exp(-theta * (2 * c - 1)))

def plot_function(thetas, colors, c_values):
    fig, ax = plt.subplots()
    for i, (theta, color) in enumerate(zip(thetas, colors)):
        h_values = sigmoid(theta, c_values)
        ax.plot(c_values, h_values, label=f'$\\theta_{i+1}$ = {theta}', color=color)

    ax.set_xlabel('c')
    ax.set_ylabel('h')
    ax.set_title('Sigmoid Function for Different Thetas')
    ax.legend()
    plt.show()

def main():
    print('Sigmoid Function Plotter')
    thetas = []
    colors = []
    for i in range(5):
        theta = float(input(f'Enter value for $\\theta_{i+1}$ (between 5 and 50): '))
        thetas.append(theta)
        color = input(f'Enter color for Theta_{i+1} (e.g., "blue", "green"): ')
        colors.append(color)

    c_values = np.linspace(0, 1, 100)

    plot_function(thetas, colors, c_values)

if __name__ == '__main__':
    main()
